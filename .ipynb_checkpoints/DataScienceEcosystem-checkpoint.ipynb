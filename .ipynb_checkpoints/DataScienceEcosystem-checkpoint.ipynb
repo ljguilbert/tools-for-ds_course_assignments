{
 "cells": [
  {
   "cell_type": "markdown",
   "id": "3baf15d8-0a52-4756-b2e8-df6a34451428",
   "metadata": {},
   "source": [
    "# Data Science Tools and Ecosystem\n"
   ]
  },
  {
   "cell_type": "markdown",
   "id": "68926759-9977-4021-93b0-d6f754892364",
   "metadata": {},
   "source": [
    "In this notebook, Data Science Tools and Ecosystem are summarized."
   ]
  },
  {
   "cell_type": "markdown",
   "id": "547df293-ac90-47e9-bd12-7faa14ecb754",
   "metadata": {},
   "source": [
    "**Objectives:**\n",
    "* Understand popular languages for Data Science\n",
    "* Understand popular packages used in Data Science\n",
    "* Understand what GitHub is\n",
    "* Understand how to use GitHub\n",
    "* Understand how to write markdown in Python"
   ]
  },
  {
   "cell_type": "markdown",
   "id": "588b04ed-7a82-4708-ae83-421ad31b0eec",
   "metadata": {},
   "source": [
    "Some of the popular languages that Data Scientists use are:\n",
    "1. Python\n",
    "1. R\n",
    "1. JavaScript\n",
    "1. SQL\n",
    "1. C++"
   ]
  },
  {
   "cell_type": "markdown",
   "id": "db9de466-5e43-411d-bc7d-c765d4d97689",
   "metadata": {},
   "source": [
    "Some of the commonly used libraries used by Data Scientists include:\n",
    "1. Pandas\n",
    "1. Scikit-learn\n",
    "1. NumPy\n",
    "1. Matplotlib\n",
    "1. TensorFlow"
   ]
  },
  {
   "cell_type": "markdown",
   "id": "d18b6594-eb06-4cd0-913c-6bc7a189dbd4",
   "metadata": {},
   "source": [
    "| Data Science Tools |\n",
    "| -------------- |\n",
    "| JupyterLab |\n",
    "| GitHub |\n",
    "| VS Code |"
   ]
  },
  {
   "cell_type": "markdown",
   "id": "0acceaa2-d2d3-4fac-8396-b3a2d612682b",
   "metadata": {},
   "source": [
    "### Below are a few examples of evaluating arithmetic expressions in Python"
   ]
  },
  {
   "cell_type": "code",
   "execution_count": 2,
   "id": "e5e5727f-ed9a-4522-b328-94c0674510f7",
   "metadata": {},
   "outputs": [
    {
     "data": {
      "text/plain": [
       "17"
      ]
     },
     "execution_count": 2,
     "metadata": {},
     "output_type": "execute_result"
    }
   ],
   "source": [
    "# This a simple arithmetic expression to mutiply then add integers\n",
    "(3*4)+5"
   ]
  },
  {
   "cell_type": "code",
   "execution_count": 3,
   "id": "a812f07d-7a26-43f0-8038-0336a60f0101",
   "metadata": {},
   "outputs": [
    {
     "data": {
      "text/plain": [
       "3.3333333333333335"
      ]
     },
     "execution_count": 3,
     "metadata": {},
     "output_type": "execute_result"
    }
   ],
   "source": [
    "# This will convert 200 minutes to hours by diving by 60\n",
    "200/60"
   ]
  },
  {
   "cell_type": "markdown",
   "id": "45cd1bd4-ef2a-4b60-8a96-3ea445168bb2",
   "metadata": {},
   "source": [
    "## Author:\n",
    "Laura Guilbert"
   ]
  },
  {
   "cell_type": "code",
   "execution_count": null,
   "id": "737a477a-2352-405a-b38d-5f7329a65d7e",
   "metadata": {},
   "outputs": [],
   "source": []
  }
 ],
 "metadata": {
  "kernelspec": {
   "display_name": "Python 3 (ipykernel)",
   "language": "python",
   "name": "python3"
  },
  "language_info": {
   "codemirror_mode": {
    "name": "ipython",
    "version": 3
   },
   "file_extension": ".py",
   "mimetype": "text/x-python",
   "name": "python",
   "nbconvert_exporter": "python",
   "pygments_lexer": "ipython3",
   "version": "3.10.9"
  }
 },
 "nbformat": 4,
 "nbformat_minor": 5
}
